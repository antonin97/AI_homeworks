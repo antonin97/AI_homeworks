{
 "cells": [
  {
   "cell_type": "code",
   "execution_count": 3,
   "id": "9ad925f8-0d59-4560-b8de-dbd6c5b8db77",
   "metadata": {},
   "outputs": [],
   "source": [
    "import random\n",
    "import numpy as np"
   ]
  },
  {
   "cell_type": "markdown",
   "id": "49dfeb7c-6dd2-4982-aab8-363aa18233ac",
   "metadata": {},
   "source": [
    "Naimplementujte vlastní sentorické funkce, kterými budou agenti vnímat prosředí"
   ]
  },
  {
   "cell_type": "code",
   "execution_count": null,
   "id": "e1a8d0c6-dc8e-41ac-bce6-8662ed8ec77d",
   "metadata": {},
   "outputs": [],
   "source": []
  },
  {
   "cell_type": "markdown",
   "id": "e138e896-46fb-4421-9a5f-7ad35f697800",
   "metadata": {},
   "source": [
    "navrhněte funkci nn_function(inp, wei), která na základě vstupů inp a vektoru vah wei neuronové sítě (genomu neuronové sítě / zlinearizované sítě) provede výpočet výstupů této sítě"
   ]
  },
  {
   "cell_type": "code",
   "execution_count": 80,
   "id": "fd9f820c-8a12-4454-ac0f-1a29805ac7ff",
   "metadata": {},
   "outputs": [],
   "source": [
    "# closure for creating neural network function\n",
    "# layers - tuple with number of neurons in corresponding i-th layer (including input and output layers)\n",
    "def create_nn_function(layers):\n",
    "\n",
    "    # input - array of inputs of the NN input ==> first layer\n",
    "    # weights - array of weights as a genom from evolution algorithm\n",
    "    def nn_function(input, weights):\n",
    "        \n",
    "        # checking if the length of the genom \"fits\" into the NN structure\n",
    "        assert len(weights) == sum(layers[i] * layers[i + 1] for i in range(len(layers) - 1)), \"The structure of genom doesn't fit the NN layers!\"\n",
    "        \n",
    "        weights_matrices = []\n",
    "    \n",
    "        # reshaping the weights genom into weights matrices\n",
    "        for i in range(len(layers) - 1):\n",
    "            index = layers[i] * layers[i + 1]\n",
    "            weight_array = np.array(weights[:index])\n",
    "            weight_matrix = np.reshape(weight_array, (layers[i], layers[i + 1]))\n",
    "            weights_matrices.append(weight_matrix)\n",
    "            weights = weights[index:]\n",
    "        \n",
    "        current_layer = input\n",
    "        \n",
    "        # performing multiple matrix multiplication\n",
    "        for weight_matrix in weights_matrices:\n",
    "            current_layer = current_layer @ weight_matrix\n",
    "            \n",
    "            # applying ReLU activation function - changing all negative values to 0\n",
    "            current_layer[current_layer < 0] = 0\n",
    "            \n",
    "        return current_layer\n",
    "\n",
    "    return nn_function"
   ]
  },
  {
   "cell_type": "code",
   "execution_count": 79,
   "id": "ae9f6a20-226b-4ff8-b1e3-0815fe8739dc",
   "metadata": {},
   "outputs": [
    {
     "name": "stdout",
     "output_type": "stream",
     "text": [
      "[21266.61030283  8470.96958891 15065.21324904 17093.4958052\n",
      "  5328.12046659]\n"
     ]
    }
   ],
   "source": [
    "genom = [random.random() for i in range(6+9+15)] # 2*3=6, 3*3=9, 3*5=15\n",
    "input = np.array([10000, 2])\n",
    "shape_of_nn = [2, 3, 3, 5]\n",
    "\n",
    "nn = create_nn_function(shape_of_nn)\n",
    "print(nn(input, genom))"
   ]
  },
  {
   "cell_type": "markdown",
   "id": "a2673240-082e-44e4-931b-387678e201b4",
   "metadata": {},
   "source": [
    "navrhněte funkci nn_navigate_me(me, inp), která pro agenta me a jeho senzorické vstupy inp provede výpočet jeho pohybu na základě jeho vnitřního genomu reprezentujícího jeho neuronovou síť (zda pojede up, down, left, right)"
   ]
  },
  {
   "cell_type": "code",
   "execution_count": 81,
   "id": "c9b64d78-ec3f-43a7-b930-5520033e819d",
   "metadata": {},
   "outputs": [],
   "source": [
    "def nn_navigate_me(me, sensors, nn):\n",
    "    \n",
    "    movement = None\n",
    "    \n",
    "    # calling the neural network function given data from sensors and the current genom\n",
    "    outputs = nn(sensors, me.genom)\n",
    "\n",
    "    max_index = outputs.index(max(outputs))\n",
    "\n",
    "    if max_index == 0:\n",
    "        movement = 1\n",
    "    elif max_index == 1:\n",
    "        movement = 2\n",
    "    elif max_index == 2:\n",
    "        movement = 3\n",
    "    elif max_index == 3:\n",
    "        movement = 4\n",
    "        \n",
    "    return movement"
   ]
  },
  {
   "cell_type": "markdown",
   "id": "c4633d46-851e-4822-a1b3-31651cebc094",
   "metadata": {},
   "source": [
    "doimplementujte mechanismus výpočtu fitness jedinců ve funkci handle_mes_fitnesses(mes), která dostane seznam jedinců mes a vypočítá jim fitness na základě jednoho herního kola"
   ]
  },
  {
   "cell_type": "markdown",
   "id": "3fc59a88-0490-42cc-a979-5a7c1ccf71bb",
   "metadata": {},
   "source": [
    "nastavte vhodně parametry evolučního algoritmu (mutace, crossover, selekce) "
   ]
  },
  {
   "cell_type": "code",
   "execution_count": null,
   "id": "43d2bf82-3375-4260-ab3e-ea2453852652",
   "metadata": {},
   "outputs": [],
   "source": []
  }
 ],
 "metadata": {
  "kernelspec": {
   "display_name": "Python 3 (ipykernel)",
   "language": "python",
   "name": "python3"
  },
  "language_info": {
   "codemirror_mode": {
    "name": "ipython",
    "version": 3
   },
   "file_extension": ".py",
   "mimetype": "text/x-python",
   "name": "python",
   "nbconvert_exporter": "python",
   "pygments_lexer": "ipython3",
   "version": "3.9.1"
  }
 },
 "nbformat": 4,
 "nbformat_minor": 5
}
