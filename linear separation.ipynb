{
 "cells": [
  {
   "cell_type": "code",
   "execution_count": 12,
   "id": "ddf8cfaf-e8bb-4cb0-871c-cfcb092d8c5c",
   "metadata": {},
   "outputs": [],
   "source": [
    "import matplotlib.pyplot as plt\n",
    "import numpy as np\n",
    "import random\n",
    "from IPython.display import clear_output"
   ]
  },
  {
   "cell_type": "code",
   "execution_count": 147,
   "id": "517daf43-46e3-41a4-8735-95f75db8059e",
   "metadata": {},
   "outputs": [],
   "source": [
    "def plot(points1, points2, a, b):\n",
    "    # Extract x and y coordinates from the points\n",
    "    # Extract x and y coordinates from the points\n",
    "    x1, y1 = zip(*points1)\n",
    "    x2, y2 = zip(*points2)\n",
    "    \n",
    "    # Create a NumPy array for the x values of the linear function\n",
    "    x_linear = np.linspace(-5, 5, 100)\n",
    "    \n",
    "    # Calculate y values for the linear function\n",
    "    try:\n",
    "        a = a[1] / a[0]\n",
    "    except NullDivisionError:\n",
    "        a = 0\n",
    "    try:\n",
    "        y_linear = (1 / -a) * x_linear\n",
    "    except NullDivisionError:\n",
    "        y_linear = 0\n",
    "\n",
    "    \n",
    "    # Fill the area above the linear function with pale colors\n",
    "    plt.fill_between(x_linear, y_linear, 5, color='lightcoral', alpha=0.5)\n",
    "    plt.fill_between(x_linear, y_linear, -5, color='lightblue', alpha=0.5)\n",
    "\n",
    "        # Plot the points with red and blue colors\n",
    "    plt.scatter(x1, y1, color='red', label='Points 1')\n",
    "    plt.scatter(x2, y2, color='blue', label='Points 2')\n",
    "    \n",
    "    # Plot the linear function with a black color\n",
    "    plt.plot(x_linear, y_linear, color='black')\n",
    "    \n",
    "    # Set x and y axis limits\n",
    "    plt.xlim(-5, 5)\n",
    "    plt.ylim(-5, 5)\n",
    "    \n",
    "    # Set labels and title\n",
    "    plt.xlabel('X-axis')\n",
    "    plt.ylabel('Y-axis')\n",
    "    plt.title('Scatter Plot with Linear Function and Fill')\n",
    "    \n",
    "    # Add legend\n",
    "    plt.legend()\n",
    "    \n",
    "    # Display the plot\n",
    "    plt.show()\n",
    "    clear_output(wait=True)"
   ]
  },
  {
   "cell_type": "code",
   "execution_count": 168,
   "id": "df9e78a7-5de7-4c43-bf0a-ece4bbe1b274",
   "metadata": {},
   "outputs": [],
   "source": [
    "def generate_points(n):\n",
    "    w = (random.random() * 10 - 5) * random.choice([-1, 1])\n",
    "    b = (random.random() * 5 - 2.5) * random.choice([-1, 1])\n",
    "\n",
    "    points1 = []\n",
    "    points2 = []\n",
    "\n",
    "    while len(points1) < n or len(points2) < n:\n",
    "        point = (random.random() * 10 - 5, random.random() * 10 - 5)\n",
    "        if point[0] * w + b < point[1] and len(points1) < n:\n",
    "            points1.append(point)\n",
    "        elif point[0] * w + b > point[1] and len(points2) < n:\n",
    "            points2.append(point)\n",
    "    return points1, points2, w, b"
   ]
  },
  {
   "cell_type": "code",
   "execution_count": 186,
   "id": "3d8e2996-90b5-489e-9060-c9af2713c59b",
   "metadata": {},
   "outputs": [
    {
     "name": "stdout",
     "output_type": "stream",
     "text": [
      "(-9.098471356068153, 6.419059122002226) -2\n",
      "1.545661003890908 0.2012313990604353\n"
     ]
    }
   ],
   "source": [
    "p1, p2, w, b  = generate_points(7)\n",
    "linear_separation(p1, p2)\n"
   ]
  },
  {
   "cell_type": "code",
   "execution_count": 187,
   "id": "96e1a285-5bef-4693-a9c9-af982e177ad4",
   "metadata": {},
   "outputs": [],
   "source": [
    "def linear_separation(points1, points2):\n",
    "    w = (0, 0)\n",
    "    b = 0\n",
    "\n",
    "    points = [(point, 1) for point in points1] + [(point, -1) for point in points2]\n",
    "    random.shuffle(points)\n",
    "\n",
    "    n_points = len(points)\n",
    "    counter = 0\n",
    "    run = True\n",
    "    \n",
    "    while run:\n",
    "        for i in range(len(points)):\n",
    "            point = points[i]\n",
    "            linear_eval = linear_classifier(w, point[0], b, point[1])\n",
    "            # znaménka nesedí\n",
    "            if not linear_eval:\n",
    "                counter = 0\n",
    "                # přepočet w a b\n",
    "                w = (w[0] + point[0][0] * point[1], w[1] + point[0][1] * point[1] )\n",
    "                b = b + point[1]\n",
    "            else:\n",
    "                counter += 1\n",
    "            if counter > n_points:\n",
    "                run = False\n",
    "                break\n",
    "            plot(points1, points2, w, b)\n",
    "\n",
    "    plot(points1, points2, w, b)"
   ]
  },
  {
   "cell_type": "code",
   "execution_count": 124,
   "id": "27c5a01f-9b29-4748-a384-bdf3325cbbee",
   "metadata": {},
   "outputs": [],
   "source": [
    "def linear_classifier(w, x, b, y):\n",
    "    eval = w[0] * x[0] + w[1] * x[1] + b\n",
    "    return (eval * y) > 0"
   ]
  }
 ],
 "metadata": {
  "kernelspec": {
   "display_name": "Python 3 (ipykernel)",
   "language": "python",
   "name": "python3"
  },
  "language_info": {
   "codemirror_mode": {
    "name": "ipython",
    "version": 3
   },
   "file_extension": ".py",
   "mimetype": "text/x-python",
   "name": "python",
   "nbconvert_exporter": "python",
   "pygments_lexer": "ipython3",
   "version": "3.9.1"
  }
 },
 "nbformat": 4,
 "nbformat_minor": 5
}
