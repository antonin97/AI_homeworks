{
 "cells": [
  {
   "cell_type": "code",
   "execution_count": 170,
   "id": "cfb32289-30ae-44f9-90f6-1dc160f4b24e",
   "metadata": {},
   "outputs": [],
   "source": [
    "class Node:\n",
    "    def __init__(self, value=None):\n",
    "        self.value = value\n",
    "        self.children = []\n",
    "\n",
    "    def add_children(self, children):\n",
    "        for i in children:\n",
    "            self.children.append(i)\n",
    "\n",
    "    def add_child(self, child):\n",
    "        self.children.append(child)"
   ]
  },
  {
   "cell_type": "code",
   "execution_count": 183,
   "id": "b9b61d8c-2648-4a0d-a379-71c5ab154d2c",
   "metadata": {},
   "outputs": [],
   "source": [
    "def minimax(node, maximizing, alpha=float(\"-inf\"), beta=float(\"inf\")):\n",
    "    # returning the leaf value\n",
    "    if node.value != None:\n",
    "        return node.value\n",
    "\n",
    "    # maximizing player - updating & returning alpha value\n",
    "    if maximizing:\n",
    "        for child in node.children:\n",
    "            child_eval = minimax(child, False, alpha, beta)\n",
    "            alpha = max(alpha, child_eval)\n",
    "            # pruning the tree\n",
    "            if alpha >= beta:\n",
    "                break\n",
    "        return alpha\n",
    "\n",
    "    # minimizing player - updating & returning beta value\n",
    "    else:\n",
    "        for child in node.children:\n",
    "            child_eval = minimax(child, True, alpha, beta)\n",
    "            beta = min(beta, child_eval)\n",
    "            # pruning the tree\n",
    "            if alpha >= beta:\n",
    "                break\n",
    "        return beta"
   ]
  },
  {
   "cell_type": "code",
   "execution_count": 184,
   "id": "8f816a0e-877b-4aec-b80b-76e0e2043b74",
   "metadata": {},
   "outputs": [],
   "source": [
    "test_tot = (((4,3), (6,2)),((2,1), (9,5), (3,1)),((5,4), (7,5)))\n",
    "\n",
    "\n",
    "def create_tree(node):\n",
    "    current_node = Node()\n",
    "    if type(node[0]) == int:\n",
    "        current_node.add_children([Node(i) for i in node])\n",
    "    else:\n",
    "        current_node.add_children([create_tree(i) for i in node])\n",
    "    return current_node\n",
    "    \n",
    "minimax_tree = create_tree(test_tot)"
   ]
  },
  {
   "cell_type": "code",
   "execution_count": 185,
   "id": "550b001b-2db6-48f6-a423-c13430aa5f47",
   "metadata": {},
   "outputs": [
    {
     "data": {
      "text/plain": [
       "5"
      ]
     },
     "execution_count": 185,
     "metadata": {},
     "output_type": "execute_result"
    }
   ],
   "source": [
    "minimax(minimax_tree, True, float(\"-inf\"), float(\"inf\"))"
   ]
  },
  {
   "cell_type": "code",
   "execution_count": null,
   "id": "e731245e-9aaf-45b3-897d-7c358c8b9e3b",
   "metadata": {},
   "outputs": [],
   "source": []
  },
  {
   "cell_type": "code",
   "execution_count": null,
   "id": "c245572d-9acb-47af-a30d-81beea7c905b",
   "metadata": {},
   "outputs": [],
   "source": []
  }
 ],
 "metadata": {
  "kernelspec": {
   "display_name": "Python 3 (ipykernel)",
   "language": "python",
   "name": "python3"
  },
  "language_info": {
   "codemirror_mode": {
    "name": "ipython",
    "version": 3
   },
   "file_extension": ".py",
   "mimetype": "text/x-python",
   "name": "python",
   "nbconvert_exporter": "python",
   "pygments_lexer": "ipython3",
   "version": "3.9.1"
  }
 },
 "nbformat": 4,
 "nbformat_minor": 5
}
