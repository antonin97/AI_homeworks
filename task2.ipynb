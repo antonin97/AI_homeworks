{
 "cells": [
  {
   "cell_type": "code",
   "execution_count": 12,
   "id": "d8a6f8ea-a1b4-4e76-8e75-2aca0a641030",
   "metadata": {},
   "outputs": [],
   "source": [
    "import numpy as np\n",
    "import matplotlib.pyplot as plt\n",
    "import random\n",
    "from IPython.display import clear_output, display\n",
    "import time\n",
    "from matplotlib.colors import ListedColormap, BoundaryNorm"
   ]
  },
  {
   "cell_type": "code",
   "execution_count": 2,
   "id": "d1f82b9f-351a-4567-b642-777692bfdc27",
   "metadata": {},
   "outputs": [],
   "source": [
    "class Person:\n",
    "    def __init__(self, white, tolerance):\n",
    "        self.white = white\n",
    "        self.tolerance = tolerance\n",
    "        self.happy = False\n",
    "        \n",
    "    def val(self):\n",
    "        repr = None\n",
    "        if self.white:\n",
    "            if self.happy:\n",
    "                repr = 1\n",
    "            else:\n",
    "                repr = 2\n",
    "        else:\n",
    "            if self.happy:\n",
    "                repr = 3\n",
    "            else:\n",
    "                repr = 4\n",
    "        return repr\n",
    "    "
   ]
  },
  {
   "cell_type": "code",
   "execution_count": 3,
   "id": "fcc9a2fb-3b9c-4b77-a0bb-4afb1590a1e0",
   "metadata": {},
   "outputs": [],
   "source": [
    "def prepare_matrix(rows=50, cols=50, density=0.8, tolerance=0.5):\n",
    "    n = int(rows * cols)    \n",
    "    blacks = []\n",
    "    whites = []\n",
    "    for i in range(int((density / 2) * n)):\n",
    "        blacks.append(Person(False, tolerance))\n",
    "        whites.append(Person(True, tolerance))\n",
    "    number_of_people = len(blacks) + len(whites)\n",
    "    empty = np.full(n - len(blacks) - len(whites), 0)\n",
    "    array = np.concatenate((blacks, whites, empty))\n",
    "    np.random.shuffle(array)\n",
    "    matrix = array.reshape((rows, cols))\n",
    "    return matrix, number_of_people"
   ]
  },
  {
   "cell_type": "code",
   "execution_count": 4,
   "id": "18b3c6d7-415a-468d-b3c4-c09fe58dbf9c",
   "metadata": {},
   "outputs": [],
   "source": [
    "def update_hapiness(matrix):\n",
    "    rows = matrix.shape[0]\n",
    "    cols = matrix.shape[1]\n",
    "    for row in range(rows):\n",
    "        for col in range(cols):\n",
    "            person = matrix[row, col]\n",
    "            if not person:\n",
    "                continue\n",
    "            white = person.white\n",
    "            same_color_neighbours = -1\n",
    "            for i in range(-1, 2):\n",
    "                for j in range(-1, 2):\n",
    "                    neighbour = matrix[(row + i) % rows, (col + j) % cols]\n",
    "                    if not neighbour:\n",
    "                        continue\n",
    "                    if not (neighbour.white ^ white):\n",
    "                        same_color_neighbours += 1\n",
    "            person.happy = (same_color_neighbours / 8) >= person.tolerance\n",
    "    return matrix\n",
    "    "
   ]
  },
  {
   "cell_type": "code",
   "execution_count": 5,
   "id": "9c63cda2-fee4-47e0-b666-2242bf2883f1",
   "metadata": {},
   "outputs": [],
   "source": [
    "def relocate_unhappy(matrix):\n",
    "\n",
    "    rows = matrix.shape[0]\n",
    "    cols = matrix.shape[1]\n",
    "    unhappy = []\n",
    "    empty_spots = []\n",
    "    for row in range(rows):\n",
    "        for col in range(cols):\n",
    "            person = matrix[row, col]\n",
    "            if not person:\n",
    "                empty_spots.append((row, col))\n",
    "            elif not person.happy:\n",
    "                unhappy.append((person, (row, col)))\n",
    "    np.random.shuffle(unhappy)\n",
    "    np.random.shuffle(empty_spots)\n",
    "    for unhappy_person in unhappy:\n",
    "        matrix[empty_spots[-1][0], empty_spots[-1][1]] = unhappy_person[0]\n",
    "        empty_spots.pop()\n",
    "        matrix[unhappy_person[1]] = 0\n",
    "        empty_spots.insert(random.randint(0, len(empty_spots)), unhappy_person[1])\n",
    "    return matrix\n",
    "    "
   ]
  },
  {
   "cell_type": "code",
   "execution_count": 6,
   "id": "ee9499cf-5dce-4c65-b831-f7414bddc471",
   "metadata": {},
   "outputs": [],
   "source": [
    "def count_happy(matrix):\n",
    "    n_happy = 1\n",
    "    rows = matrix.shape[0]\n",
    "    cols = matrix.shape[1]\n",
    "    for row in range(rows):\n",
    "        for col in range(cols):\n",
    "            person = matrix[row, col]\n",
    "            if not person:\n",
    "                continue\n",
    "            if person.happy:\n",
    "                n_happy += 1\n",
    "    return n_happy"
   ]
  },
  {
   "cell_type": "code",
   "execution_count": 7,
   "id": "1ecc342a",
   "metadata": {},
   "outputs": [],
   "source": [
    "def step(rep):\n",
    "        rep = update_hapiness(rep)\n",
    "        rep = relocate_unhappy(rep)\n",
    "        return rep"
   ]
  },
  {
   "cell_type": "code",
   "execution_count": 8,
   "id": "503f0d92-47ba-48fc-a814-61ccd2ba86a5",
   "metadata": {},
   "outputs": [],
   "source": [
    "def plot(matrix):\n",
    "    # Create a numpy array for the colors\n",
    "    color_matrix = []\n",
    "    for row in matrix:\n",
    "        new_row = []\n",
    "        for cell in row:\n",
    "            if isinstance(cell, Person):\n",
    "                new_row.append(cell.val())\n",
    "            else:\n",
    "                new_row.append(0)\n",
    "        color_matrix.append(new_row)    \n",
    "    # Creaa figure and axis\n",
    "    fig, ax = plt.subplots()\n",
    "\n",
    "    # Create a colormap with custom colors\n",
    "    cmap = ListedColormap(['white', 'red', '#FFCCCC', 'blue', '#CCCCFF'])\n",
    "\n",
    "    # Calculate the ratio of elements in the matrix\n",
    "    total_elements = np.prod(np.array(matrix).shape)\n",
    "    ratio = np.sum(np.array(color_matrix) != 0) / total_elements\n",
    "\n",
    "    # Set bounds to cover the range of values from -0.5 to 4.5\n",
    "    bounds = np.arange(-0.5, 5.5, 1)\n",
    "\n",
    "    # Use BoundaryNorm to make sure the colorbar corresponds to the boundaries of your categories\n",
    "    norm = BoundaryNorm(bounds, cmap.N, clip=True)\n",
    "\n",
    "    # Plot the color matrix\n",
    "    cax = ax.matshow(color_matrix, cmap=cmap, norm=norm)\n",
    "\n",
    "    # Display the plot\n",
    "    plt.show()"
   ]
  },
  {
   "cell_type": "code",
   "execution_count": 17,
   "id": "8d86f83e-0939-43f3-a49d-26da2a9a7de9",
   "metadata": {},
   "outputs": [
    {
     "data": {
      "image/png": "[encoded data removed]",
      "text/plain": [
       "<Figure size 640x480 with 1 Axes>"
      ]
     },
     "metadata": {},
     "output_type": "display_data"
    }
   ],
   "source": [
    "x, n = prepare_matrix(60,60,0.8,0.5)\n",
    "happy_history = []\n",
    "n_happy = 0\n",
    "plot(x)\n",
    "clear_output(wait=True)\n",
    "\n",
    "time.sleep(3)\n",
    "while True:\n",
    "    happy_history.append(n_happy)\n",
    "    x = step(x)\n",
    "    n_happy = count_happy(x)\n",
    "    plot(x)\n",
    "    clear_output(wait=True)\n",
    "    if n_happy == n:\n",
    "        break\n",
    "plt.show()"
   ]
  },
  {
   "cell_type": "code",
   "execution_count": 18,
   "id": "cb3969d5-ab16-47d1-987f-936b9c1767c1",
   "metadata": {},
   "outputs": [
    {
     "data": {
      "image/png": "[encoded data removed]",
      "text/plain": [
       "<Figure size 640x480 with 1 Axes>"
      ]
     },
     "metadata": {},
     "output_type": "display_data"
    }
   ],
   "source": [
    "# Create x-axis values (assuming equal spacing)\n",
    "x_values = np.arange(len(happy_history))\n",
    "\n",
    "# Plot the values\n",
    "plt.plot(x_values, happy_history, linestyle='-')\n",
    "\n",
    "# Add labels and title\n",
    "plt.xlabel('Generation')\n",
    "plt.ylabel('People')\n",
    "plt.title('Happy people')\n",
    "\n",
    "# Display the plot\n",
    "plt.show()"
   ]
  },
  {
   "cell_type": "code",
   "execution_count": null,
   "id": "61140292-4b33-420f-8eb2-61f3556d418d",
   "metadata": {},
   "outputs": [],
   "source": []
  }
 ],
 "metadata": {
  "kernelspec": {
   "display_name": "Python 3 (ipykernel)",
   "language": "python",
   "name": "python3"
  },
  "language_info": {
   "codemirror_mode": {
    "name": "ipython",
    "version": 3
   },
   "file_extension": ".py",
   "mimetype": "text/x-python",
   "name": "python",
   "nbconvert_exporter": "python",
   "pygments_lexer": "ipython3",
   "version": "3.9.1"
  }
 },
 "nbformat": 4,
 "nbformat_minor": 5
}
