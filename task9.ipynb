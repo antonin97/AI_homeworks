{
 "cells": [
  {
   "cell_type": "markdown",
   "id": "867aa3ba",
   "metadata": {},
   "source": [
    "# Tic-tac-toe"
   ]
  },
  {
   "cell_type": "code",
   "execution_count": 1,
   "id": "60f845d1",
   "metadata": {},
   "outputs": [],
   "source": [
    "import numpy as np"
   ]
  },
  {
   "cell_type": "code",
   "execution_count": null,
   "id": "0179fd02-9271-4a53-a833-11791816a08c",
   "metadata": {},
   "outputs": [],
   "source": [
    "class Node:\n",
    "    def __init__(self, value=None):\n",
    "        self.value = value\n",
    "        self.children = []\n",
    "\n",
    "    def add_children(self, children):\n",
    "        for i in children:\n",
    "            self.children.append(i)\n",
    "\n",
    "    def add_child(self, child):\n",
    "        self.children.append(child)"
   ]
  },
  {
   "cell_type": "code",
   "execution_count": null,
   "id": "d1dd6a7d-6696-4bcc-8cec-435bd182f135",
   "metadata": {},
   "outputs": [],
   "source": [
    "def minimax(node, maximizing, alpha=float(\"-inf\"), beta=float(\"inf\")):\n",
    "    # returning the leaf value\n",
    "    if node.value != None:\n",
    "        return node.value\n",
    "\n",
    "    # maximizing player - updating & returning alpha value\n",
    "    if maximizing:\n",
    "        for child in node.children:\n",
    "            child_eval = minimax(child, False, alpha, beta)\n",
    "            alpha = max(alpha, child_eval)\n",
    "            # pruning the tree\n",
    "            if alpha >= beta:\n",
    "                break\n",
    "        return alpha\n",
    "\n",
    "    # minimizing player - updating & returning beta value\n",
    "    else:\n",
    "        for child in node.children:\n",
    "            child_eval = minimax(child, True, alpha, beta)\n",
    "            beta = min(beta, child_eval)\n",
    "            # pruning the tree\n",
    "            if alpha >= beta:\n",
    "                break\n",
    "        return beta"
   ]
  },
  {
   "cell_type": "markdown",
   "id": "a2a89821",
   "metadata": {},
   "source": [
    "## Pomocné funkce"
   ]
  },
  {
   "cell_type": "code",
   "execution_count": 2,
   "id": "17561ae1",
   "metadata": {},
   "outputs": [],
   "source": [
    "# kreslí hru\n",
    "def printgame(g):\n",
    "    for r in game: \n",
    "        pr = \"\"\n",
    "        for i in r:\n",
    "            if i == 0:\n",
    "                pr += \".\"\n",
    "            elif i == 1:\n",
    "                pr += \"x\"\n",
    "            else:\n",
    "                pr += \"o\"\n",
    "        print(pr)\n",
    "        \n",
    "\n",
    "        \n",
    "# říká kdo vyhrál 0=nikdo, 1, 2        \n",
    "def whowon(g):\n",
    "    \n",
    "    # řádek\n",
    "    if g[0][:] == [1, 1, 1] or g[1][:] == [1, 1, 1] or g[2][:] == [1, 1, 1]:\n",
    "        return 1\n",
    "            \n",
    "    if g[0][:] == [2, 2, 2] or g[1][:] == [2, 2, 2] or g[2][:] == [2, 2, 2]:\n",
    "        return 2\n",
    "    \n",
    "    # 1. sloupec\n",
    "    if g[0][0] == g[1][0] == g[2][0] == 1:\n",
    "        return 1\n",
    "    \n",
    "    if g[0][0] == g[1][0] == g[2][0] == 2:\n",
    "        return 2\n",
    "    \n",
    "    # 2. sloupec\n",
    "    if g[0][1] == g[1][1] == g[2][1] == 1:\n",
    "        return 1\n",
    "    \n",
    "    if g[0][1] == g[1][1] == g[2][1] == 2:\n",
    "        return 2\n",
    "    \n",
    "    \n",
    "    # 3. sloupec\n",
    "    if g[0][2] == g[1][2] == g[2][2] == 1:\n",
    "        return 1\n",
    "    \n",
    "    if g[0][2] == g[1][2] == g[2][2] == 2:\n",
    "        return 2\n",
    "    \n",
    "    \n",
    "    # hlavní diagonála\n",
    "    if g[0][0] == g[1][1] == g[2][2] == 1:\n",
    "        return 1\n",
    "    \n",
    "    if g[0][0] == g[1][1] == g[2][2] == 2:\n",
    "        return 2\n",
    "    \n",
    "    \n",
    "    # hlavní anti-diagonála\n",
    "    if g[0][2] == g[1][1] == g[2][0] == 1:\n",
    "        return 1\n",
    "\n",
    "    if g[0][2] == g[1][1] == g[2][0] == 2:\n",
    "        return 2\n",
    "       \n",
    "    return 0\n",
    "        \n",
    "\n",
    "# vrací prázdná místa na šachovnici    \n",
    "def emptyspots(g):\n",
    "    emp = []\n",
    "    for i in range(3):\n",
    "        for j in range(3):\n",
    "            if g[i][j] == 0:\n",
    "                emp.append((i, j))\n",
    "    return emp\n",
    "    "
   ]
  },
  {
   "cell_type": "markdown",
   "id": "f3f85e03",
   "metadata": {},
   "source": [
    "## Herní funkce"
   ]
  },
  {
   "cell_type": "code",
   "execution_count": 90,
   "id": "2bf35bae-bc63-4261-81ec-5dbc30e2ce20",
   "metadata": {},
   "outputs": [],
   "source": [
    "def ttt_move(game, myplayer, otherplayer):\n",
    "            \n",
    "    # todo <--------------------    \n",
    "        \n",
    "    return game"
   ]
  },
  {
   "cell_type": "markdown",
   "id": "28eb0522",
   "metadata": {},
   "source": [
    "## Hra"
   ]
  },
  {
   "cell_type": "code",
   "execution_count": null,
   "id": "be5a5b4f-dbf5-42cd-bf86-9a7e4c16030d",
   "metadata": {},
   "outputs": [],
   "source": []
  }
 ],
 "metadata": {
  "kernelspec": {
   "display_name": "Python 3 (ipykernel)",
   "language": "python",
   "name": "python3"
  },
  "language_info": {
   "codemirror_mode": {
    "name": "ipython",
    "version": 3
   },
   "file_extension": ".py",
   "mimetype": "text/x-python",
   "name": "python",
   "nbconvert_exporter": "python",
   "pygments_lexer": "ipython3",
   "version": "3.9.1"
  }
 },
 "nbformat": 4,
 "nbformat_minor": 5
}
