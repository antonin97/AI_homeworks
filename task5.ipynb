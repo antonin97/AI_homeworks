{
 "cells": [
  {
   "cell_type": "code",
   "execution_count": 2,
   "metadata": {},
   "outputs": [],
   "source": [
    "import random\n",
    "import math\n",
    "import statistics\n",
    "import matplotlib.pyplot as plt\n",
    "import numpy as np\n",
    "from pprint import pprint\n",
    "from deap import base, creator, tools, algorithms"
   ]
  },
  {
   "cell_type": "markdown",
   "metadata": {},
   "source": [
    "## Iterované vězňovo dilema"
   ]
  },
  {
   "cell_type": "code",
   "execution_count": 3,
   "metadata": {},
   "outputs": [],
   "source": [
    "def scores(move1, move2):\n",
    "    # 1 = betray, 0 = not betray\n",
    "\n",
    "    scores = (0, 0)\n",
    "\n",
    "    if (move1 == 1) and (move2 == 1):\n",
    "        scores = (2, 2)\n",
    "\n",
    "    if (move1 == 1) and (move2 == 0):\n",
    "        scores = (0, 3)\n",
    "\n",
    "    if (move1 == 0) and (move2 == 1):\n",
    "        scores = (3, 0)\n",
    "\n",
    "    if (move1 == 0) and (move2 == 0):\n",
    "        scores = (1, 1)\n",
    "\n",
    "    return scores\n",
    "\n",
    "def play(player1_strategy, player2_strategy, num_steps):\n",
    "\n",
    "    score1 = 0\n",
    "    score2 = 0\n",
    "\n",
    "    history1 = []\n",
    "    history2 = []\n",
    "\n",
    "    for i in range(num_steps):\n",
    "        move1 = player1_strategy(history1, history2)\n",
    "        move2 = player2_strategy(history2, history1)\n",
    "\n",
    "        s1, s2 = scores(move1, move2)\n",
    "        score1 += s1\n",
    "        score2 += s2\n",
    "\n",
    "        history1.append(move1)\n",
    "        history2.append(move2)\n",
    "\n",
    "    return score1, score2\n"
   ]
  },
  {
   "cell_type": "markdown",
   "metadata": {},
   "source": [
    "## Special cases\n",
    "\n",
    "#### initial_betrayal\n",
    "betraying when playing the first round (no history)\n",
    "\n",
    "#### cautious_vs_sorry\n",
    "betraying after successfully getting away with it (3, 0) case\n",
    "\n",
    "#### insidious_vs_peaceful\n",
    "betraying after the opponent hasn't betrayed me twice\n",
    "\n",
    "#### revenge_vs_chance\n",
    "betraying after being betrayed three times in a row\n",
    "\n",
    "## Cases based on score\n",
    "winning significantly, loosing significantly or the average case"
   ]
  },
  {
   "cell_type": "code",
   "execution_count": 22,
   "metadata": {},
   "outputs": [],
   "source": [
    "def strategy(initial_betrayal, cautious_vs_sorry, insidious_vs_peaceful, revenge_vs_chance, winning, loosing, average):\n",
    "\n",
    "    def configured_strategy(my_history, opponents_history):\n",
    "        my_move = 0\n",
    "        if len(my_history) == 0:\n",
    "            my_move = initial_betrayal\n",
    "        elif my_history[-1] == 1 and opponents_history[-1] == 0:\n",
    "            my_move = cautious_vs_sorry\n",
    "        elif opponents_history[-2:] == [0, 0]:\n",
    "            my_move = insidious_vs_peaceful\n",
    "        elif opponents_history[-3:] == [1, 1, 1]:\n",
    "            my_move = revenge_vs_chance\n",
    "        else:\n",
    "            my_score, opponents_score = tuple(sum(pair) for pair in zip(*[scores(x, y) for x, y in zip(my_history, opponents_history)]))\n",
    "            if my_score / (opponents_score + 0.00001) > 1.25:\n",
    "                my_move = winning\n",
    "            elif my_score / (opponents_score + 0.00001) < 0.75:\n",
    "                my_move = loosing\n",
    "            else:\n",
    "                my_move = average      \n",
    "        return my_move\n",
    "\n",
    "    return configured_strategy\n",
    "    "
   ]
  },
  {
   "cell_type": "code",
   "execution_count": 27,
   "metadata": {},
   "outputs": [],
   "source": [
    "training_strategy = [1, 1, 0, 0, 1, 0, 1]"
   ]
  },
  {
   "cell_type": "code",
   "execution_count": 28,
   "metadata": {},
   "outputs": [],
   "source": [
    "def fitness(my_strategy):\n",
    "    opponent_strategy = training_strategy\n",
    "    my_strategy = strategy(*my_strategy)\n",
    "    opponent_strategy = strategy(*opponent_strategy)\n",
    "    my_score, opponent_score = play(my_strategy, opponent_strategy, 10)\n",
    "    return (my_score,)\n",
    "    "
   ]
  },
  {
   "cell_type": "code",
   "execution_count": 29,
   "metadata": {},
   "outputs": [
    {
     "name": "stdout",
     "output_type": "stream",
     "text": [
      "gen\tnevals\n",
      "0  \t10    \n",
      "1  \t9     \n",
      "2  \t8     \n",
      "3  \t9     \n",
      "4  \t9     \n",
      "5  \t4     \n",
      "6  \t7     \n",
      "7  \t6     \n",
      "8  \t8     \n",
      "9  \t6     \n",
      "10 \t8     \n",
      "11 \t9     \n",
      "12 \t10    \n",
      "13 \t8     \n",
      "14 \t6     \n",
      "15 \t8     \n",
      "16 \t10    \n",
      "17 \t6     \n",
      "18 \t4     \n",
      "19 \t8     \n",
      "20 \t5     \n",
      "21 \t9     \n",
      "22 \t9     \n",
      "23 \t6     \n",
      "24 \t8     \n",
      "25 \t2     \n",
      "26 \t8     \n",
      "27 \t6     \n",
      "28 \t9     \n",
      "29 \t7     \n",
      "30 \t2     \n",
      "31 \t6     \n",
      "32 \t9     \n",
      "33 \t8     \n",
      "34 \t7     \n",
      "35 \t9     \n",
      "36 \t8     \n",
      "37 \t8     \n",
      "38 \t6     \n",
      "39 \t8     \n",
      "40 \t8     \n",
      "41 \t7     \n",
      "42 \t8     \n",
      "43 \t8     \n",
      "44 \t10    \n",
      "45 \t4     \n",
      "46 \t8     \n",
      "47 \t10    \n",
      "48 \t4     \n",
      "49 \t10    \n",
      "50 \t7     \n"
     ]
    }
   ],
   "source": [
    "creator.create(\"FitnessMax\", base.Fitness, weights=(-1.0,))\n",
    "creator.create(\"Individual\", list, fitness=creator.FitnessMax)\n",
    "toolbox = base.Toolbox()\n",
    "toolbox.register(\"attr_int\", random.randint, 0, 1)\n",
    "toolbox.register(\"individual\", tools.initRepeat, creator.Individual,\n",
    "                 toolbox.attr_int, n=7)\n",
    "toolbox.register(\"population\", tools.initRepeat, list, toolbox.individual) \n",
    "\n",
    "toolbox.register(\"evaluate\", fitness)\n",
    "\n",
    "toolbox.register(\"mate\", tools.cxOnePoint)\n",
    "toolbox.register(\"mutate\", tools.mutFlipBit, indpb=0.05)\n",
    "toolbox.register(\"select\", tools.selTournament, tournsize=3)\n",
    "\n",
    "population = toolbox.population(n=10)\n",
    "NGEN = 50            \n",
    "CXPB = 0.7           \n",
    "MUTPB = 0.2       \n",
    "\n",
    "finalpopulation, logbook = algorithms.eaSimple(population, toolbox, cxpb=CXPB, mutpb=MUTPB, ngen=NGEN)"
   ]
  },
  {
   "cell_type": "markdown",
   "metadata": {},
   "source": [
    "s kým si to má jedinec rozdat, abych ze získaného skóre vypočítal jeho fitness? Aby to mělo výpovědní hodnotu, tak by měli být všechny porovnávány vůči jedné, neměnné strategii."
   ]
  },
  {
   "cell_type": "code",
   "execution_count": 31,
   "metadata": {},
   "outputs": [
    {
     "name": "stdout",
     "output_type": "stream",
     "text": [
      "[[0, 1, 1, 0, 1, 1, 1], [0, 1, 1, 0, 1, 1, 1], [0, 1, 0, 0, 1, 1, 1], [0, 1, 1, 0, 1, 1, 1], [0, 1, 1, 0, 1, 1, 1], [0, 1, 1, 0, 1, 1, 1], [0, 1, 0, 0, 1, 1, 1], [0, 1, 1, 0, 1, 1, 1], [0, 1, 0, 0, 1, 1, 1], [0, 1, 0, 0, 1, 1, 1]]\n"
     ]
    }
   ],
   "source": [
    "print(finalpopulation)"
   ]
  },
  {
   "cell_type": "code",
   "execution_count": null,
   "metadata": {},
   "outputs": [],
   "source": []
  }
 ],
 "metadata": {
  "kernelspec": {
   "display_name": "Python 3 (ipykernel)",
   "language": "python",
   "name": "python3"
  },
  "language_info": {
   "codemirror_mode": {
    "name": "ipython",
    "version": 3
   },
   "file_extension": ".py",
   "mimetype": "text/x-python",
   "name": "python",
   "nbconvert_exporter": "python",
   "pygments_lexer": "ipython3",
   "version": "3.11.3"
  }
 },
 "nbformat": 4,
 "nbformat_minor": 4
}
