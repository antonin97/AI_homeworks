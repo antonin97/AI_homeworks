{
 "cells": [
  {
   "cell_type": "code",
   "execution_count": 295,
   "id": "9e65823c-3763-426e-aa4a-ff02635f61d9",
   "metadata": {},
   "outputs": [],
   "source": [
    "import random\n",
    "import matplotlib.pyplot as plt\n",
    "import numpy as np"
   ]
  },
  {
   "cell_type": "code",
   "execution_count": 296,
   "id": "3d3d7253-b824-4434-87ac-4b82ff04876a",
   "metadata": {},
   "outputs": [],
   "source": [
    "def step(population, rules):\n",
    "    new_population = \"\"\n",
    "    for i in range(len(population)):\n",
    "        parents = \"\"\n",
    "        for j in range(-1, 2):\n",
    "            parents += population[(i + j) % len(population)]\n",
    "        new_population += rules[parents]\n",
    "    return new_population"
   ]
  },
  {
   "cell_type": "code",
   "execution_count": 297,
   "id": "3f963dfc-473f-4fe1-a881-6fe9d6e3f31b",
   "metadata": {},
   "outputs": [],
   "source": [
    "def plot(generations):\n",
    "    binary_matrix = np.array([[int(bit) for bit in generation] for generation in generations])\n",
    "    \n",
    "    fig, ax = plt.subplots(figsize=(6, 7))  # Adjust the figsize as needed\n",
    "    ax.imshow(binary_matrix, cmap='gray', interpolation='nearest', aspect='auto')\n",
    "\n",
    "    ax.set_xticks([])\n",
    "    ax.set_xlabel('')\n",
    "    ax.set_ylabel('Generation')\n",
    "\n",
    "    plt.show()"
   ]
  },
  {
   "cell_type": "markdown",
   "id": "49a1d2de-c3f4-40eb-8385-5eab133b5200",
   "metadata": {},
   "source": [
    "#### Jedna konfigurace, které se mi obzvlášť líbila"
   ]
  },
  {
   "cell_type": "code",
   "execution_count": 302,
   "id": "b56a9b04-4d19-429a-aad0-00add851a5aa",
   "metadata": {},
   "outputs": [],
   "source": [
    "rules = {'000': '0', '001': '1', '010': '1', '011': '0', '100': '1', '101': '0', '110': '0', '111': '1'}\n",
    "generation = '00000000000000001000000000000000000000000000001000000000000000000000000000000100000000000000'"
   ]
  },
  {
   "cell_type": "markdown",
   "id": "70368475-87bb-4427-a445-4f2468805fae",
   "metadata": {},
   "source": [
    "#### Náhodně generovaná populace i pravidla"
   ]
  },
  {
   "cell_type": "code",
   "execution_count": 336,
   "id": "8ecf90aa-e69a-4d08-aecd-d8d37192f3c5",
   "metadata": {},
   "outputs": [],
   "source": [
    "generation = bin(random.randint(10e10, 10e20))[2:]\n",
    "rules = dict([(bin(i)[2:].zfill(3), str(random.randint(0, 1))) for i in range(8)])"
   ]
  },
  {
   "cell_type": "markdown",
   "id": "83653675-b19e-4941-a854-cc107c2eccdb",
   "metadata": {},
   "source": [
    "#### běh algoritmu"
   ]
  },
  {
   "cell_type": "code",
   "execution_count": 337,
   "id": "55e96305-44b6-4a5e-9d94-34fd1750ec84",
   "metadata": {},
   "outputs": [],
   "source": [
    "history = []\n",
    "\n",
    "for i in range(200):\n",
    "    history.append(generation)\n",
    "    new_generation = step(generation, rules)\n",
    "    generation = new_generation"
   ]
  },
  {
   "cell_type": "markdown",
   "id": "de2ba45f-de76-410d-b6a1-52d6154bf8da",
   "metadata": {},
   "source": [
    "#### vykreslení"
   ]
  },
  {
   "cell_type": "code",
   "execution_count": 338,
   "id": "0a839d8f-daf7-4c36-9ab1-f132c48c1d19",
   "metadata": {},
   "outputs": [
    {
     "data": {
      "image/png": "[encoded data removed]",
      "text/plain": [
       "<Figure size 600x700 with 1 Axes>"
      ]
     },
     "metadata": {},
     "output_type": "display_data"
    }
   ],
   "source": [
    "plot(history)"
   ]
  },
  {
   "cell_type": "code",
   "execution_count": null,
   "id": "7676937b-d64a-4e5c-891d-973bb1055daf",
   "metadata": {},
   "outputs": [],
   "source": []
  },
  {
   "cell_type": "code",
   "execution_count": null,
   "id": "980ff6db-a937-46a2-80eb-29a860cb8594",
   "metadata": {},
   "outputs": [],
   "source": []
  }
 ],
 "metadata": {
  "kernelspec": {
   "display_name": "Python 3 (ipykernel)",
   "language": "python",
   "name": "python3"
  },
  "language_info": {
   "codemirror_mode": {
    "name": "ipython",
    "version": 3
   },
   "file_extension": ".py",
   "mimetype": "text/x-python",
   "name": "python",
   "nbconvert_exporter": "python",
   "pygments_lexer": "ipython3",
   "version": "3.9.1"
  }
 },
 "nbformat": 4,
 "nbformat_minor": 5
}
