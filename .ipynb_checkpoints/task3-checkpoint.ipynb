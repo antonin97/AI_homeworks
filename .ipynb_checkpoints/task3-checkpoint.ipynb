{
 "cells": [
  {
   "cell_type": "markdown",
   "id": "37eb8c34",
   "metadata": {},
   "source": [
    "# Barvení grafu"
   ]
  },
  {
   "cell_type": "code",
   "execution_count": 13,
   "id": "bb45579f",
   "metadata": {},
   "outputs": [],
   "source": [
    "import networkx as nx\n",
    "import matplotlib.pyplot as plt\n",
    "import random\n",
    "from IPython.display import display, clear_output\n",
    "import numpy as np\n",
    "import matplotlib.ticker as ticker\n"
   ]
  },
  {
   "cell_type": "markdown",
   "id": "6522acae",
   "metadata": {},
   "source": [
    "### Dimacs format"
   ]
  },
  {
   "cell_type": "code",
   "execution_count": 2,
   "id": "2d2811da",
   "metadata": {},
   "outputs": [],
   "source": [
    "Gd = nx.Graph()\n",
    "\n",
    "def readdimacs(filename):\n",
    "\n",
    "    file = open(filename, 'r')\n",
    "    lines = file.readlines()\n",
    "    \n",
    "    Gd = nx.Graph()\n",
    "\n",
    "    for line in lines:\n",
    "        if line[0] == \"e\":\n",
    "            vs = [int(s) for s in line.split() if s.isdigit()]\n",
    "            Gd.add_edge(vs[0]-1, vs[1]-1)\n",
    "    return Gd\n",
    "\n",
    "# http://cedric.cnam.fr/~porumbed/graphs/\n",
    "G1 = readdimacs('graphs/dsjc125.1.col')  \n",
    "G2 = readdimacs('graphs/r125.1.col')\n",
    "G3 = readdimacs('graphs/r125.5.col')\n",
    "G4 = readdimacs('graphs/dsjc125.9.col')\n",
    "\n",
    "\n"
   ]
  },
  {
   "cell_type": "markdown",
   "id": "46a39cb7-49d5-4bea-bc2c-59c7c8846d26",
   "metadata": {},
   "source": [
    "## Color functions\n",
    "different approaches to local search"
   ]
  },
  {
   "cell_type": "code",
   "execution_count": 3,
   "id": "13113fc9",
   "metadata": {},
   "outputs": [],
   "source": [
    "def random_walk_graph_colors(G, colors, steps):\n",
    "    # list of random colors to be used\n",
    "    colmap = [\"#\"+f\"{hex(random.randint(0, 2**24 - 1))}\"[2:].zfill(6) for i in range(colors)]\n",
    "    # randomly appointing colors to nodes\n",
    "    colnum = [random.randint(0, len(colmap) - 1) for i in range(max(G.nodes) + 1)]\n",
    "    s = 0\n",
    "    while s < steps:\n",
    "        random_index = random.randint(0, len(colnum) - 1)\n",
    "        random_color = random.choice([i for i in range(0, colors) if i != colnum[random_index]])\n",
    "        colnum[random_index] = random_color\n",
    "        if not check_collisions(G, colnum):\n",
    "            print(f\"Stop - solution with {colors} colors found after {s} steps\")\n",
    "            break\n",
    "        s += 1\n",
    "    else:\n",
    "        print(\"No solution found\")\n",
    "    colors = [colmap[c] for c in colnum]\n",
    "    colors = [colors[i] for i in G.nodes()]\n",
    "    nx.draw(G, node_color=colors, with_labels=True)\n"
   ]
  },
  {
   "cell_type": "code",
   "execution_count": 4,
   "id": "4d1b8f4a-56de-40af-80e6-36e528a79517",
   "metadata": {},
   "outputs": [],
   "source": [
    "def hill_climb_graph_colors(G, colors, steps):\n",
    "    # list of random colors to be used\n",
    "    colmap = [\"#\"+f\"{hex(random.randint(0, 2**24 - 1))}\"[2:].zfill(6) for i in range(colors)]\n",
    "    # randomly appointing colors to nodes\n",
    "    colnum = [random.randint(0, len(colmap) - 1) for i in range(max(G.nodes) + 1)]\n",
    "    s = 0\n",
    "    while s < steps:\n",
    "        cols = check_collisions(G, colnum)\n",
    "        if not cols:\n",
    "            print(f\"Stop - solution with {colors} colors found after {s} steps\")\n",
    "            break\n",
    "        best_change = find_best_change(G, colmap, colnum)\n",
    "        if best_change[0] == 0:\n",
    "            shuffle_collisions(G, colmap, colnum)\n",
    "        else:\n",
    "            colnum[best_change[1]] = best_change[2]\n",
    "        s += 1\n",
    "    else:\n",
    "        print(f\"No solution found - {cols} collisions\")\n",
    "\n",
    "    \n",
    "    colors = [colmap[c] for c in colnum]\n",
    "    colors = [colors[i] for i in G.nodes()]\n",
    "    return cols\n"
   ]
  },
  {
   "cell_type": "markdown",
   "id": "89c266a7-4110-41d0-bb89-f1d542858242",
   "metadata": {},
   "source": [
    "## Helper functions"
   ]
  },
  {
   "cell_type": "code",
   "execution_count": 45,
   "id": "b175db9a-f246-4550-b3a1-4d502c925f92",
   "metadata": {},
   "outputs": [],
   "source": [
    "def shuffle_collisions(graph, colmap, colnum):\n",
    "    neighbours = list(graph.edges())\n",
    "    for adj in neighbours:\n",
    "        if colnum[adj[0]] == colnum[adj[1]] and random.random() < 0.5:\n",
    "            colnum[adj[random.randint(0, 1)]] = random.randint(0, len(colmap) - 1)  \n"
   ]
  },
  {
   "cell_type": "code",
   "execution_count": 6,
   "id": "b9f1b7cf-f032-4858-8073-3bab26bc6300",
   "metadata": {},
   "outputs": [],
   "source": [
    "def find_best_change(G, colmap, colnum):\n",
    "    # (number of collisions saved, node nr., new color)\n",
    "    best_change = (0, None, None)\n",
    "    for node in G.nodes:\n",
    "        node_color = colnum[node]\n",
    "        # number of neighbors of the ith color - starting with all 0s\n",
    "        arr_neighbors_colors = [0 for i in range(len(colmap))]\n",
    "        for neighbor in G.neighbors(node):\n",
    "            arr_neighbors_colors[colnum[neighbor]] += 1\n",
    "        # maximal number of collisions to be saved = current nr. of collisions - the lowest number of collisions from the remaining colors\n",
    "        max_save = arr_neighbors_colors[node_color] - min(arr_neighbors_colors)\n",
    "        # if it is the best so far, save it\n",
    "        if max_save > best_change[0]:\n",
    "            best_change = (max_save, node, arr_neighbors_colors.index(min(arr_neighbors_colors)))\n",
    "    return best_change"
   ]
  },
  {
   "cell_type": "markdown",
   "id": "492ebffe-58d9-486d-b553-0fd90c6d1ac0",
   "metadata": {},
   "source": [
    "## iscoloring function"
   ]
  },
  {
   "cell_type": "code",
   "execution_count": 7,
   "id": "4d815172-2b84-465f-8d86-377ee9a2a7f1",
   "metadata": {},
   "outputs": [],
   "source": [
    "# False, if no collisions occure\n",
    "def check_collisions(G, colnum):\n",
    "    sum_collisions = 0\n",
    "    neighbours = list(G.edges())\n",
    "    for adj in neighbours:\n",
    "        if colnum[adj[0]] == colnum[adj[1]]:\n",
    "            sum_collisions += 1  \n",
    "    return sum_collisions\n",
    "    "
   ]
  },
  {
   "cell_type": "code",
   "execution_count": 8,
   "id": "b8ee02d0-73b6-49a4-a7ad-c9d10626b6d5",
   "metadata": {},
   "outputs": [],
   "source": [
    "G = nx.Graph()\n",
    "G.add_edges_from([(0, 2), (2, 3), (3, 4), (2, 4), (3, 1), (4,5), (5,0)])  # ze seznamu dvojic\n"
   ]
  },
  {
   "cell_type": "code",
   "execution_count": 48,
   "id": "cbeccfbd-da56-425e-958d-9e6314008925",
   "metadata": {
    "scrolled": true
   },
   "outputs": [
    {
     "name": "stdout",
     "output_type": "stream",
     "text": [
      "No solution found - 4 collisions\n",
      "No solution found - 8 collisions\n",
      "No solution found - 12 collisions\n",
      "No solution found - 5 collisions\n",
      "No solution found - 5 collisions\n",
      "No solution found - 7 collisions\n",
      "No solution found - 3 collisions\n",
      "Stop - solution with 44 colors found after 3638 steps\n",
      "No solution found - 4 collisions\n",
      "No solution found - 10 collisions\n"
     ]
    }
   ],
   "source": [
    "n_colors = 44\n",
    "arr = []\n",
    "\n",
    "for i in range(10):\n",
    "    arr.append(hill_climb_graph_colors(G4, n_colors, 5000))\n"
   ]
  },
  {
   "cell_type": "code",
   "execution_count": 49,
   "id": "894cbc4d-4236-4263-8ea7-aa6d45b936fc",
   "metadata": {},
   "outputs": [
    {
     "data": {
      "image/png": "[encoded data removed]",
      "text/plain": [
       "<Figure size 640x480 with 1 Axes>"
      ]
     },
     "metadata": {},
     "output_type": "display_data"
    }
   ],
   "source": [
    "# Create a histogram\n",
    "hist, edges, _ = plt.hist(\n",
    "    arr, bins=range(int(min(arr)), int(max(arr)) + 2), edgecolor='black', alpha=0.7\n",
    ")\n",
    "\n",
    "# Calculate bin widths and midpoints\n",
    "bin_width = edges[1] - edges[0]\n",
    "bin_midpoints = edges[:-1] + bin_width / 2\n",
    "\n",
    "# Force y-axis ticks to be integers and disable scientific notation\n",
    "plt.gca().yaxis.set_major_locator(ticker.MaxNLocator(integer=True))\n",
    "plt.gca().yaxis.get_major_formatter().set_scientific(False)\n",
    "\n",
    "# Set x-ticks to bin midpoints\n",
    "plt.xticks(bin_midpoints, [int(x) for x in bin_midpoints])\n",
    "\n",
    "# Customize the plot\n",
    "plt.xlabel('Number of collisions')\n",
    "plt.ylabel('Count')\n",
    "plt.title(f'{n_colors} colors')\n",
    "\n",
    "# Save the plot as a JPEG file\n",
    "plt.savefig(f'graphs_plots/{n_colors}_colors.jpg', format='jpeg')\n",
    "\n",
    "# Display the plot\n",
    "plt.show()"
   ]
  },
  {
   "cell_type": "markdown",
   "id": "42eb21fd-6d68-47f6-b989-5dd7f6328ab1",
   "metadata": {},
   "source": [
    "## Valid solution of the problem"
   ]
  },
  {
   "cell_type": "code",
   "execution_count": 19,
   "id": "f6c229a3-c611-4360-a3b4-eb8e06c200ea",
   "metadata": {},
   "outputs": [],
   "source": [
    "valid_solution = [24, 41, 10, 14, 38, 3, 2, 39, 0, 22, 33, 28, 30, 11, 41, 5, 22, 20, 43, 9, 43, 39, 43, 36, 36, 1, 24, 1, 18, 32, 40, 40, 40, 8, 11, 9, 12, 28, 42, 20, 14, 15, 42, 25, 36, 31, 2, 29, 4, 2, 32, 11, 30, 26, 0, 37, 21, 17, 3, 35, 28, 35, 15, 23, 23, 25, 39, 24, 12, 13, 21, 6, 5, 12, 27, 26, 21, 31, 34, 16, 29, 8, 20, 6, 7, 27, 33, 10, 29, 10, 31, 13, 23, 17, 7, 17, 1, 13, 26, 19, 38, 18, 35, 16, 4, 5, 6, 34, 15, 4, 41, 37, 27, 0, 6, 14, 7, 16, 9, 18, 3, 19, 22, 30, 32]\n"
   ]
  },
  {
   "cell_type": "code",
   "execution_count": 21,
   "id": "368e7201-0a79-483f-a144-826c4e5bca5f",
   "metadata": {},
   "outputs": [
    {
     "name": "stdout",
     "output_type": "stream",
     "text": [
      "0\n"
     ]
    }
   ],
   "source": [
    "print(check_collisions(G4, valid_solution))"
   ]
  }
 ],
 "metadata": {
  "kernelspec": {
   "display_name": "Python 3 (ipykernel)",
   "language": "python",
   "name": "python3"
  },
  "language_info": {
   "codemirror_mode": {
    "name": "ipython",
    "version": 3
   },
   "file_extension": ".py",
   "mimetype": "text/x-python",
   "name": "python",
   "nbconvert_exporter": "python",
   "pygments_lexer": "ipython3",
   "version": "3.9.1"
  }
 },
 "nbformat": 4,
 "nbformat_minor": 5
}
