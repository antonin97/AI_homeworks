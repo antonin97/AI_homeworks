{
 "cells": [
  {
   "cell_type": "code",
   "execution_count": 1,
   "id": "d8a6f8ea-a1b4-4e76-8e75-2aca0a641030",
   "metadata": {},
   "outputs": [],
   "source": [
    "import numpy as np\n",
    "import matplotlib.pyplot as plt\n",
    "import random\n",
    "from IPython.display import clear_output, display\n",
    "import time\n",
    "from matplotlib.animation import FuncAnimation\n"
   ]
  },
  {
   "cell_type": "code",
   "execution_count": 2,
   "id": "d1f82b9f-351a-4567-b642-777692bfdc27",
   "metadata": {},
   "outputs": [],
   "source": [
    "class Person:\n",
    "    def __init__(self, white, tolerance):\n",
    "        self.white = white\n",
    "        self.tolerance = tolerance\n",
    "        self.happy = False\n",
    "        \n",
    "    def __repr__(self):\n",
    "        return f'{1 if self.white else 2}'\n",
    "\n",
    "\n",
    "# data type for np martix\n",
    "person_dtype = np.dtype([\n",
    "    ('person', object),\n",
    "])\n",
    "\n",
    "    "
   ]
  },
  {
   "cell_type": "code",
   "execution_count": 3,
   "id": "fcc9a2fb-3b9c-4b77-a0bb-4afb1590a1e0",
   "metadata": {},
   "outputs": [],
   "source": [
    "def prepare_matrix(rows=50, cols=50, density=0.8, tolerance=0.5):\n",
    "    n = int(rows * cols)    \n",
    "    blacks = []\n",
    "    whites = []\n",
    "    for i in range(int((density / 2) * n)):\n",
    "        blacks.append(Person(False, tolerance))\n",
    "        whites.append(Person(True, tolerance))\n",
    "    empty = np.full(n - len(blacks) - len(whites), 0)\n",
    "    array = np.concatenate((blacks, whites, empty))\n",
    "    np.random.shuffle(array)\n",
    "    matrix = array.reshape((rows, cols))\n",
    "    return matrix"
   ]
  },
  {
   "cell_type": "code",
   "execution_count": 4,
   "id": "18b3c6d7-415a-468d-b3c4-c09fe58dbf9c",
   "metadata": {},
   "outputs": [],
   "source": [
    "def update_hapiness(matrix):\n",
    "    rows = matrix.shape[0]\n",
    "    cols = matrix.shape[1]\n",
    "    for row in range(rows):\n",
    "        for col in range(cols):\n",
    "            person = matrix[row, col]\n",
    "            if not person:\n",
    "                continue\n",
    "            white = person.white\n",
    "            same_color_neighbours = -1\n",
    "            for i in range(-1, 2):\n",
    "                for j in range(-1, 2):\n",
    "                    neighbour = matrix[(row + i) % rows, (col + j) % cols]\n",
    "                    if not neighbour:\n",
    "                        continue\n",
    "                    if not (neighbour.white ^ white):\n",
    "                        same_color_neighbours += 1\n",
    "            person.happy = (same_color_neighbours / 8) >= person.tolerance\n",
    "    "
   ]
  },
  {
   "cell_type": "code",
   "execution_count": 5,
   "id": "9c63cda2-fee4-47e0-b666-2242bf2883f1",
   "metadata": {},
   "outputs": [],
   "source": [
    "def relocate_unhappy(matrix):\n",
    "    rows = matrix.shape[0]\n",
    "    cols = matrix.shape[1]\n",
    "    unhappy = []\n",
    "    empty_spots = []\n",
    "    for row in range(rows):\n",
    "        for col in range(cols):\n",
    "            person = matrix[row, col]\n",
    "            if not person:\n",
    "                empty_spots.append((row, col))\n",
    "            elif not person.happy:\n",
    "                unhappy.append((person, (row, col)))\n",
    "    np.random.shuffle(unhappy)\n",
    "    np.random.shuffle(empty_spots)\n",
    "    for unhappy_person in unhappy:\n",
    "        matrix[empty_spots[-1][0], empty_spots[-1][1]] = unhappy_person[0]\n",
    "        empty_spots.pop()\n",
    "        matrix[unhappy_person[1]] = 0\n",
    "        empty_spots.insert(random.randint(0, len(empty_spots)), unhappy_person[1])\n",
    "    "
   ]
  },
  {
   "cell_type": "code",
   "execution_count": 6,
   "id": "ee9499cf-5dce-4c65-b831-f7414bddc471",
   "metadata": {},
   "outputs": [],
   "source": [
    "def check_hapiness(matrix):\n",
    "    rows = matrix.shape[0]\n",
    "    cols = matrix.shape[1]\n",
    "    for row in range(rows):\n",
    "        for col in range(cols):\n",
    "            person = matrix[row, col]\n",
    "            if not person:\n",
    "                continue\n",
    "            elif not person.happy:\n",
    "                return False\n",
    "    return True"
   ]
  },
  {
   "cell_type": "code",
   "execution_count": 8,
   "id": "503f0d92-47ba-48fc-a814-61ccd2ba86a5",
   "metadata": {},
   "outputs": [],
   "source": [
    "def display_matrix(matrix):\n",
    "    # Create a numpy array for the colors\n",
    "    color_matrix = []\n",
    "    for row in matrix:\n",
    "        new_row = []\n",
    "        for cell in row:\n",
    "            if isinstance(cell, Person):\n",
    "                new_row.append(cell.white + 1)\n",
    "            else:\n",
    "                new_row.append(0)\n",
    "        color_matrix.append(new_row)    \n",
    "    # Create a figure and axis\n",
    "    fig, ax = plt.subplots()\n",
    "    \n",
    "    # Create a colormap with custom colors\n",
    "    cmap = plt.cm.colors.ListedColormap(['white', 'red', 'blue'])\n",
    "    \n",
    "    # Plot the color matrix\n",
    "    cax = ax.matshow(color_matrix, cmap=cmap)\n",
    "    \n",
    "    # Add color bar legend\n",
    "    cbar = plt.colorbar(cax, ticks=[0, 1, 2])\n",
    "    cbar.set_ticklabels(['Empty', 'Red', 'Blue'])\n",
    "    \n",
    "    # Display the plot\n",
    "    plt.show()"
   ]
  },
  {
   "cell_type": "code",
   "execution_count": 23,
   "id": "8d86f83e-0939-43f3-a49d-26da2a9a7de9",
   "metadata": {},
   "outputs": [
    {
     "data": {
      "image/png": "[encoded data removed]",
      "text/plain": [
       "<Figure size 640x480 with 2 Axes>"
      ]
     },
     "metadata": {},
     "output_type": "display_data"
    }
   ],
   "source": [
    "x = prepare_matrix(100,100,0.4,0.3)\n",
    "display_matrix(x)\n",
    "clear_output(wait=True)\n",
    "\n",
    "time.sleep(3)\n",
    "while not check_hapiness(x):\n",
    "    update_hapiness(x)\n",
    "    relocate_unhappy(x)\n",
    "    display_matrix(x)\n",
    "    clear_output(wait=True)\n",
    "plt.show()"
   ]
  },
  {
   "cell_type": "code",
   "execution_count": null,
   "id": "31d976ea-e6c9-4003-bb26-26b6563f3a06",
   "metadata": {},
   "outputs": [],
   "source": []
  },
  {
   "cell_type": "code",
   "execution_count": null,
   "id": "cb3969d5-ab16-47d1-987f-936b9c1767c1",
   "metadata": {},
   "outputs": [],
   "source": []
  }
 ],
 "metadata": {
  "kernelspec": {
   "display_name": "Python 3 (ipykernel)",
   "language": "python",
   "name": "python3"
  },
  "language_info": {
   "codemirror_mode": {
    "name": "ipython",
    "version": 3
   },
   "file_extension": ".py",
   "mimetype": "text/x-python",
   "name": "python",
   "nbconvert_exporter": "python",
   "pygments_lexer": "ipython3",
   "version": "3.11.3"
  }
 },
 "nbformat": 4,
 "nbformat_minor": 5
}
