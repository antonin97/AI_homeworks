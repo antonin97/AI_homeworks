{
 "cells": [
  {
   "cell_type": "markdown",
   "metadata": {},
   "source": [
    "## Iterované vězňovo dilema"
   ]
  },
  {
   "cell_type": "code",
   "execution_count": null,
   "metadata": {},
   "outputs": [],
   "source": [
    "def scores(move1, move2):\n",
    "    # 1 = betray, 0 = not betray\n",
    "\n",
    "    scores = (0, 0)\n",
    "\n",
    "    if (move1 == 1) and (move2 == 1):\n",
    "        scores = (2, 2)\n",
    "\n",
    "    if (move1 == 1) and (move2 == 0):\n",
    "        scores = (0, 3)\n",
    "\n",
    "    if (move1 == 0) and (move2 == 1):\n",
    "        scores = (3, 0)\n",
    "\n",
    "    if (move1 == 0) and (move2 == 0):\n",
    "        scores = (1, 1)\n",
    "\n",
    "    return scores\n",
    "\n",
    "def play(player1_strategy, player2_strategy, num_steps):\n",
    "\n",
    "    score1 = 0\n",
    "    score2 = 0\n",
    "\n",
    "    history1 = []\n",
    "    history2 = []\n",
    "\n",
    "    for i in range(num_steps):\n",
    "        move1 = player1_strategy(history1, history2)\n",
    "        move2 = player2_strategy(history2, history1)\n",
    "\n",
    "        s1, s2 = scores(move1, move2)\n",
    "        score1 += s1\n",
    "        score2 += s2\n",
    "\n",
    "        history1.append(move1)\n",
    "        history2.append(move2)\n",
    "\n",
    "    return score1, score2\n"
   ]
  },
  {
   "cell_type": "markdown",
   "metadata": {},
   "source": [
    "## Special cases\n",
    "\n",
    "#### initial_betrayal\n",
    "betraying when playing the first round (no history)\n",
    "\n",
    "#### cautious_vs_sorry\n",
    "betraying after successfully getting away with it (3, 0) case\n",
    "\n",
    "#### insidious_vs_peaceful\n",
    "betraying after the opponent hasn't betrayed me twice\n",
    "\n",
    "#### revenge_vs_chance\n",
    "betraying after being betrayed three times in a row\n",
    "\n",
    "## Cases based on score\n",
    "winning significantly, loosing significantly or the average case"
   ]
  },
  {
   "cell_type": "code",
   "execution_count": 1,
   "metadata": {},
   "outputs": [],
   "source": [
    "def strategy(initial_betrayal, cautious_vs_sorry, insidious_vs_peaceful, revenge_vs_chance, winning, loosing, average):\n",
    "\n",
    "    def configured_strategy(my_history, opponents_history):\n",
    "        my_move = 0\n",
    "        if len(my_history) == 0:\n",
    "            my_move = initial_betrayal\n",
    "        elif my_history[-1] == 1 and opponents_history[-1] == 0:\n",
    "            my_move = cautious_vs_sorry\n",
    "        elif opponents_history[-2:] == [0, 0]:\n",
    "            my_move = insidious_vs_peaceful\n",
    "        elif opponents_history[-3:] == [1, 1, 1]:\n",
    "            my_move = revenge_vs_chance\n",
    "        else:\n",
    "            my_score, opponents_score = tuple(sum(pair) for pair in zip(*[scores(x, y) for x, y in zip(my_history, opponents_history)]))\n",
    "            if my_score / opponents_score > 1.25:\n",
    "                my_move = winning\n",
    "            elif my_score / opponents_score < 0.75:\n",
    "                my_move = loosing\n",
    "            else:\n",
    "                my_move = average      \n",
    "        return my_move\n",
    "\n",
    "    return configured_strategy\n",
    "    "
   ]
  },
  {
   "cell_type": "markdown",
   "metadata": {},
   "source": [
    "s kým si to má jedinec rozdat, abych ze získaného skóre vypočítal jeho fitness? Aby to mělo výpovědní hodnotu, tak by měli být všechny porovnávány vůči jedné, neměnné strategii."
   ]
  }
 ],
 "metadata": {
  "kernelspec": {
   "display_name": "Python 3",
   "language": "python",
   "name": "python3"
  },
  "language_info": {
   "codemirror_mode": {
    "name": "ipython",
    "version": 3
   },
   "file_extension": ".py",
   "mimetype": "text/x-python",
   "name": "python",
   "nbconvert_exporter": "python",
   "pygments_lexer": "ipython3",
   "version": "3.9.1"
  }
 },
 "nbformat": 4,
 "nbformat_minor": 2
}
