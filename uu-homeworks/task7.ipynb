{
 "cells": [
  {
   "cell_type": "code",
   "execution_count": 1,
   "id": "e0825548",
   "metadata": {},
   "outputs": [
    {
     "ename": "ModuleNotFoundError",
     "evalue": "No module named 'tensorflow'",
     "output_type": "error",
     "traceback": [
      "\u001b[1;31m---------------------------------------------------------------------------\u001b[0m",
      "\u001b[1;31mModuleNotFoundError\u001b[0m                       Traceback (most recent call last)",
      "Cell \u001b[1;32mIn[1], line 1\u001b[0m\n\u001b[1;32m----> 1\u001b[0m \u001b[38;5;28;01mimport\u001b[39;00m \u001b[38;5;21;01mtensorflow\u001b[39;00m \u001b[38;5;28;01mas\u001b[39;00m \u001b[38;5;21;01mtf\u001b[39;00m\n\u001b[0;32m      2\u001b[0m \u001b[38;5;28;01mimport\u001b[39;00m \u001b[38;5;21;01mnumpy\u001b[39;00m \u001b[38;5;28;01mas\u001b[39;00m \u001b[38;5;21;01mnp\u001b[39;00m\n\u001b[0;32m      3\u001b[0m \u001b[38;5;28;01mimport\u001b[39;00m \u001b[38;5;21;01mmatplotlib\u001b[39;00m\u001b[38;5;21;01m.\u001b[39;00m\u001b[38;5;21;01mpyplot\u001b[39;00m \u001b[38;5;28;01mas\u001b[39;00m \u001b[38;5;21;01mplt\u001b[39;00m   \u001b[38;5;66;03m# možná bude potřeba doinstalovat v novém prostředí!!!\u001b[39;00m\n",
      "\u001b[1;31mModuleNotFoundError\u001b[0m: No module named 'tensorflow'"
     ]
    }
   ],
   "source": [
    "import tensorflow as tf\n",
    "import numpy as np\n",
    "import matplotlib.pyplot as plt   # možná bude potřeba doinstalovat v novém prostředí!!!\n",
    "from tensorflow.keras import layers, models\n",
    "import random\n"
   ]
  },
  {
   "cell_type": "code",
   "execution_count": 30,
   "id": "219a380c",
   "metadata": {},
   "outputs": [],
   "source": [
    "# dataset mnist - handwritten numbers\n",
    "mnist_dataset = tf.keras.datasets.mnist\n",
    "(train_images, train_labels), (test_images, test_labels) = mnist_dataset.load_data()\n"
   ]
  },
  {
   "cell_type": "code",
   "execution_count": 31,
   "id": "516e533e",
   "metadata": {},
   "outputs": [],
   "source": [
    "# normalizace dat\n",
    "train_images = train_images / 255\n",
    "test_images = test_images / 255\n",
    "\n",
    "# jména tříd = čísla\n",
    "class_names = [str(i) for i in range(10)]"
   ]
  },
  {
   "cell_type": "code",
   "execution_count": 33,
   "id": "19c4702d",
   "metadata": {
    "scrolled": true
   },
   "outputs": [],
   "source": [
    "def show_sample(sample, clas):\n",
    "    plt.figure()\n",
    "    plt.imshow(sample, cmap=plt.cm.binary)\n",
    "    plt.colorbar()\n",
    "    plt.grid(False)\n",
    "    plt.title(clas)\n",
    "    plt.show()    "
   ]
  },
  {
   "cell_type": "code",
   "execution_count": 34,
   "id": "9a37fd51",
   "metadata": {},
   "outputs": [],
   "source": [
    "model = tf.keras.Sequential()\n",
    "model.add(layers.Conv2D(32, (3, 3), activation='relu', input_shape=(28, 28, 1)))\n",
    "model.add(layers.MaxPooling2D((2, 2)))\n",
    "model.add(layers.Conv2D(64, (3, 3), activation='relu'))\n",
    "model.add(layers.MaxPooling2D((2, 2)))\n",
    "model.add(layers.Conv2D(64, (3, 3), activation='relu'))\n",
    "model.add(layers.Flatten())\n",
    "model.add(layers.Dense(64, activation='relu'))\n",
    "model.add(layers.Dense(10, activation='softmax'))"
   ]
  },
  {
   "cell_type": "code",
   "execution_count": 35,
   "id": "86e74e89",
   "metadata": {},
   "outputs": [],
   "source": [
    "model.compile(optimizer='adam',\n",
    "              loss=tf.keras.losses.SparseCategoricalCrossentropy(from_logits=True),\n",
    "              metrics=['accuracy'])"
   ]
  },
  {
   "cell_type": "code",
   "execution_count": 25,
   "id": "e3b4955b",
   "metadata": {},
   "outputs": [
    {
     "name": "stdout",
     "output_type": "stream",
     "text": [
      "Epoch 1/3\n",
      "\u001b[1m1875/1875\u001b[0m \u001b[32m━━━━━━━━━━━━━━━━━━━━\u001b[0m\u001b[37m\u001b[0m \u001b[1m14s\u001b[0m 8ms/step - accuracy: 0.9963 - loss: 0.0116\n",
      "Epoch 2/3\n",
      "\u001b[1m1875/1875\u001b[0m \u001b[32m━━━━━━━━━━━━━━━━━━━━\u001b[0m\u001b[37m\u001b[0m \u001b[1m14s\u001b[0m 8ms/step - accuracy: 0.9966 - loss: 0.0104\n",
      "Epoch 3/3\n",
      "\u001b[1m1875/1875\u001b[0m \u001b[32m━━━━━━━━━━━━━━━━━━━━\u001b[0m\u001b[37m\u001b[0m \u001b[1m14s\u001b[0m 8ms/step - accuracy: 0.9975 - loss: 0.0080\n"
     ]
    },
    {
     "data": {
      "text/plain": [
       "<keras.src.callbacks.history.History at 0x25fb1a45a60>"
      ]
     },
     "execution_count": 25,
     "metadata": {},
     "output_type": "execute_result"
    }
   ],
   "source": [
    "model.fit(train_images, train_labels, epochs=3)\n"
   ]
  },
  {
   "cell_type": "code",
   "execution_count": 36,
   "id": "6cdf794a",
   "metadata": {},
   "outputs": [
    {
     "name": "stdout",
     "output_type": "stream",
     "text": [
      "313/313 - 1s - 3ms/step - accuracy: 0.0755 - loss: 2.3055\n"
     ]
    }
   ],
   "source": [
    "test_loss, test_acc = model.evaluate(test_images,  test_labels, verbose=2)\n"
   ]
  },
  {
   "cell_type": "code",
   "execution_count": 37,
   "id": "441aca65",
   "metadata": {},
   "outputs": [
    {
     "name": "stdout",
     "output_type": "stream",
     "text": [
      "\u001b[1m313/313\u001b[0m \u001b[32m━━━━━━━━━━━━━━━━━━━━\u001b[0m\u001b[37m\u001b[0m \u001b[1m0s\u001b[0m 897us/step\n"
     ]
    }
   ],
   "source": [
    "predictions = pr_model.predict(test_images)"
   ]
  },
  {
   "cell_type": "code",
   "execution_count": 38,
   "id": "eaddfae2",
   "metadata": {},
   "outputs": [],
   "source": [
    "# zobrazí predikci vzorku číslo i\n",
    "def sample_predict(i, test_images, test_labels, predictions, class_names):\n",
    "    s = test_images[i]\n",
    "    c = class_names[test_labels[i]]\n",
    "    show_sample(s, c)\n",
    "    \n",
    "    print(\"Probabilities\")\n",
    "    print(\"------------\")\n",
    "    for j in range(len(class_names)):\n",
    "        print(class_names[j], \":\", np.round(predictions[i, j], 2))\n",
    "    \n",
    "    ind = np.argmax(predictions[i])\n",
    "    \n",
    "    print(\"------------\")\n",
    "    print(\"true class:\", c, \", predicted class:\", class_names[ind])"
   ]
  },
  {
   "cell_type": "code",
   "execution_count": 50,
   "id": "23ace3a9",
   "metadata": {},
   "outputs": [
    {
     "data": {
      "image/png": "[encoded data removed]",
      "text/plain": [
       "<Figure size 640x480 with 2 Axes>"
      ]
     },
     "metadata": {},
     "output_type": "display_data"
    },
    {
     "name": "stdout",
     "output_type": "stream",
     "text": [
      "Probabilities\n",
      "------------\n",
      "0 : 0.0\n",
      "1 : 0.0\n",
      "2 : 0.0\n",
      "3 : 0.0\n",
      "4 : 0.0\n",
      "5 : 0.0\n",
      "6 : 1.0\n",
      "7 : 0.0\n",
      "8 : 0.0\n",
      "9 : 0.0\n",
      "------------\n",
      "true class: 6 , predicted class: 6\n"
     ]
    }
   ],
   "source": [
    "sample_predict(random.randint(0, len(test_images)), test_images, test_labels, predictions, class_names)"
   ]
  },
  {
   "cell_type": "code",
   "execution_count": null,
   "id": "fe3c3fbd-3099-4cc1-bf10-f2af5b1ca16d",
   "metadata": {},
   "outputs": [],
   "source": []
  }
 ],
 "metadata": {
  "kernelspec": {
   "display_name": "Python 3 (ipykernel)",
   "language": "python",
   "name": "python3"
  },
  "language_info": {
   "codemirror_mode": {
    "name": "ipython",
    "version": 3
   },
   "file_extension": ".py",
   "mimetype": "text/x-python",
   "name": "python",
   "nbconvert_exporter": "python",
   "pygments_lexer": "ipython3",
   "version": "3.11.3"
  }
 },
 "nbformat": 4,
 "nbformat_minor": 5
}
