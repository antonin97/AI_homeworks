{
 "cells": [
  {
   "cell_type": "markdown",
   "id": "867aa3ba",
   "metadata": {},
   "source": [
    "# Tic-tac-toe"
   ]
  },
  {
   "cell_type": "code",
   "execution_count": 1,
   "id": "60f845d1",
   "metadata": {},
   "outputs": [],
   "source": [
    "import numpy as np\n",
    "import random\n",
    "import copy"
   ]
  },
  {
   "cell_type": "markdown",
   "id": "a2a89821",
   "metadata": {},
   "source": [
    "## Pomocné funkce"
   ]
  },
  {
   "cell_type": "code",
   "execution_count": 2,
   "id": "17561ae1",
   "metadata": {},
   "outputs": [],
   "source": [
    "# říká kdo vyhrál human -1, bot 1, remíza 0     \n",
    "def whowon(g):\n",
    "   \n",
    "    # řádek\n",
    "    if g[0][:] == [1, 1, 1] or g[1][:] == [1, 1, 1] or g[2][:] == [1, 1, 1]:\n",
    "        return -1\n",
    "            \n",
    "    if g[0][:] == [2, 2, 2] or g[1][:] == [2, 2, 2] or g[2][:] == [2, 2, 2]:\n",
    "        return 1\n",
    "    \n",
    "    # 1. sloupec\n",
    "    if g[0][0] == g[1][0] == g[2][0] == 1:\n",
    "        return -1\n",
    "    \n",
    "    if g[0][0] == g[1][0] == g[2][0] == 2:\n",
    "        return 1\n",
    "    \n",
    "    # 2. sloupec\n",
    "    if g[0][1] == g[1][1] == g[2][1] == 1:\n",
    "        return -1\n",
    "    \n",
    "    if g[0][1] == g[1][1] == g[2][1] == 2:\n",
    "        return 1\n",
    "    \n",
    "    \n",
    "    # 3. sloupec\n",
    "    if g[0][2] == g[1][2] == g[2][2] == 1:\n",
    "        return -1\n",
    "    \n",
    "    if g[0][2] == g[1][2] == g[2][2] == 2:\n",
    "        return 1\n",
    "    \n",
    "    \n",
    "    # hlavní diagonála\n",
    "    if g[0][0] == g[1][1] == g[2][2] == 1:\n",
    "        return -1\n",
    "    \n",
    "    if g[0][0] == g[1][1] == g[2][2] == 2:\n",
    "        return 1\n",
    "    \n",
    "    \n",
    "    # hlavní anti-diagonála\n",
    "    if g[0][2] == g[1][1] == g[2][0] == 1:\n",
    "        return -1\n",
    "\n",
    "    if g[0][2] == g[1][1] == g[2][0] == 2:\n",
    "        return 1 \n",
    "        \n",
    "    return 0\n",
    "      \n",
    "\n",
    "# vrací prázdná místa na šachovnici    \n",
    "def emptyspots(g):\n",
    "    emp = []\n",
    "    for i in range(3):\n",
    "        for j in range(3):\n",
    "            if g[i][j] == 0:\n",
    "                emp.append((i, j))\n",
    "    return emp\n",
    "\n",
    "# terminal state - one player has won OR there are no more emptyspots\n",
    "def is_terminal_state(g):\n",
    "    return whowon(g) != 0 or len(emptyspots(g)) == 0\n",
    "\n",
    "def plot_board(g):\n",
    "    dir = {1 : \"X\", 2 : \"O\", 0 : \" \"}\n",
    "    print(\" \" + \" | \".join([dir[i] for i in g[0]]) + \" \")\n",
    "    print(\"-----------\")\n",
    "    print(\" \" + \" | \".join([dir[i] for i in g[1]]) + \" \")\n",
    "    print(\"-----------\")\n",
    "    print(\" \" + \" | \".join([dir[i] for i in g[2]]) + \" \")"
   ]
  },
  {
   "cell_type": "code",
   "execution_count": 3,
   "id": "d1dd6a7d-6696-4bcc-8cec-435bd182f135",
   "metadata": {},
   "outputs": [],
   "source": [
    "def minimax(game, maximizing, alpha=float(\"-inf\"), beta=float(\"inf\")):\n",
    "    # returning the leaf value\n",
    "    if is_terminal_state(game):\n",
    "        return whowon(game)\n",
    "    # maximizing player, the AI Bot - updating & returning alpha value\n",
    "    if maximizing:\n",
    "        for i, j in [(x, y) for x in range(3) for y in range(3)]:\n",
    "            # if the cell is empty\n",
    "            if game[i][j] == 0:\n",
    "                game[i][j] = 2\n",
    "                eval = minimax(game, False, alpha, beta)\n",
    "                game[i][j] = 0\n",
    "                alpha = max(alpha, eval)\n",
    "                # pruning the tree\n",
    "                if alpha >= beta:\n",
    "                    break\n",
    "        return alpha\n",
    "\n",
    "    # minimizing player, the human Player - updating & returning beta value\n",
    "    else:\n",
    "        for i, j in [(x, y) for x in range(3) for y in range(3)]:\n",
    "            # if the cell is empty\n",
    "            if game[i][j] == 0:\n",
    "                game[i][j] = 1\n",
    "                eval = minimax(game, True, alpha, beta)\n",
    "                game[i][j] = 0\n",
    "                beta = min(beta, eval)\n",
    "                # pruning the tree\n",
    "                if alpha >= beta:\n",
    "                    break\n",
    "        return beta"
   ]
  },
  {
   "cell_type": "raw",
   "id": "3561d08e-26a8-49c1-844f-e7a8877c101c",
   "metadata": {},
   "source": [
    "## Herní funkce"
   ]
  },
  {
   "cell_type": "code",
   "execution_count": 4,
   "id": "2bf35bae-bc63-4261-81ec-5dbc30e2ce20",
   "metadata": {},
   "outputs": [],
   "source": [
    "def ttt_move(game, myplayer, otherplayer):\n",
    "    original_game = copy.deepcopy(game)\n",
    "            \n",
    "    best_val = float('-inf')\n",
    "    best_moves = []\n",
    "    \n",
    "    for i, j in [(x, y) for x in range(3) for y in range(3)]:\n",
    "        game = copy.deepcopy(original_game)\n",
    "        # if the cell is empty, try to search the tree\n",
    "        if game[i][j] == 0:\n",
    "            game[i][j] = myplayer\n",
    "            # AI is always maximizing - it calls the other player to minimize\n",
    "            move_val = minimax(game, False)\n",
    "            if move_val > best_val:\n",
    "                best_moves = [(i, j)]\n",
    "                best_val = move_val\n",
    "            elif move_val == best_val:\n",
    "                best_moves.append((i, j))\n",
    "    i, j = random.choice(best_moves)\n",
    "    return (i, j)\n",
    "    "
   ]
  },
  {
   "cell_type": "markdown",
   "id": "28eb0522",
   "metadata": {},
   "source": [
    "## Hra"
   ]
  },
  {
   "cell_type": "code",
   "execution_count": 5,
   "id": "b6b62c40-ea1f-44cb-8db4-ab24c4a62cba",
   "metadata": {},
   "outputs": [
    {
     "name": "stdout",
     "output_type": "stream",
     "text": [
      "   |   |   \n",
      "-----------\n",
      "   |   |   \n",
      "-----------\n",
      "   |   |   \n"
     ]
    },
    {
     "name": "stdin",
     "output_type": "stream",
     "text": [
      "Choose cell, available indexes = [1, 2, 3, 4, 5, 6, 7, 8, 9]:  5\n"
     ]
    },
    {
     "name": "stdout",
     "output_type": "stream",
     "text": [
      "________________________________________\n",
      "   |   |   \n",
      "-----------\n",
      "   | X |   \n",
      "-----------\n",
      "   |   |   \n",
      "Bot's turn\n",
      "________________________________________\n",
      "   |   | O \n",
      "-----------\n",
      "   | X |   \n",
      "-----------\n",
      "   |   |   \n"
     ]
    },
    {
     "name": "stdin",
     "output_type": "stream",
     "text": [
      "Choose cell, available indexes = [1, 2, 4, 6, 7, 8, 9]:  1\n"
     ]
    },
    {
     "name": "stdout",
     "output_type": "stream",
     "text": [
      "________________________________________\n",
      " X |   | O \n",
      "-----------\n",
      "   | X |   \n",
      "-----------\n",
      "   |   |   \n",
      "Bot's turn\n",
      "________________________________________\n",
      " X |   | O \n",
      "-----------\n",
      "   | X |   \n",
      "-----------\n",
      "   |   | O \n"
     ]
    },
    {
     "name": "stdin",
     "output_type": "stream",
     "text": [
      "Choose cell, available indexes = [2, 4, 6, 7, 8]:  6\n"
     ]
    },
    {
     "name": "stdout",
     "output_type": "stream",
     "text": [
      "________________________________________\n",
      " X |   | O \n",
      "-----------\n",
      "   | X | X \n",
      "-----------\n",
      "   |   | O \n",
      "Bot's turn\n",
      "________________________________________\n",
      " X |   | O \n",
      "-----------\n",
      " O | X | X \n",
      "-----------\n",
      "   |   | O \n"
     ]
    },
    {
     "name": "stdin",
     "output_type": "stream",
     "text": [
      "Choose cell, available indexes = [2, 7, 8]:  2\n"
     ]
    },
    {
     "name": "stdout",
     "output_type": "stream",
     "text": [
      "________________________________________\n",
      " X | X | O \n",
      "-----------\n",
      " O | X | X \n",
      "-----------\n",
      "   |   | O \n",
      "Bot's turn\n",
      "________________________________________\n",
      " X | X | O \n",
      "-----------\n",
      " O | X | X \n",
      "-----------\n",
      "   | O | O \n"
     ]
    },
    {
     "name": "stdin",
     "output_type": "stream",
     "text": [
      "Choose cell, available indexes = [7]:  7\n"
     ]
    },
    {
     "name": "stdout",
     "output_type": "stream",
     "text": [
      "________________________________________\n",
      "It's a tie!\n",
      " X | X | O \n",
      "-----------\n",
      " O | X | X \n",
      "-----------\n",
      " X | O | O \n"
     ]
    }
   ],
   "source": [
    "# Nastavení začínajícího hráče\n",
    "# Člověk hraje vždy X\n",
    "human_turn = True\n",
    "\n",
    "# inicializace prázdné herní desky\n",
    "board = [[0, 0, 0] for _ in range(3)]\n",
    "\n",
    "while not is_terminal_state(board):\n",
    "    plot_board(board)\n",
    "    if human_turn:\n",
    "        available_indexes = [(3 * i + j + 1) for i in range(3) for j in range(3) if board[i][j] == 0]\n",
    "        # force the human player to choose available index\n",
    "        while True:\n",
    "            index = int(input(f\"Choose cell, available indexes = {available_indexes}: \"))\n",
    "            if index in available_indexes:\n",
    "                break\n",
    "            else:\n",
    "                print(\"Invalid cell!\")\n",
    "        board[(index - 1) // 3][(index - 1) % 3] = 1\n",
    "        human_turn = False\n",
    "    else:\n",
    "        # bot plays\n",
    "        move = ttt_move(board, 2, 1)\n",
    "        board[move[0]][move[1]] = 2\n",
    "        human_turn = True\n",
    "        print(\"Bot's turn\")\n",
    "    print(\"_\" * 40)\n",
    "\n",
    "    \n",
    "\n",
    "# game evaluation\n",
    "g = whowon(board)\n",
    "if g == 0:\n",
    "    print(\"It's a tie!\")\n",
    "elif g == -1:\n",
    "    print(\"You won!\")\n",
    "else:\n",
    "    print(\"AI won!\")\n",
    "plot_board(board)"
   ]
  },
  {
   "cell_type": "code",
   "execution_count": null,
   "id": "bdc0a7ab-5901-4bd3-8985-697e35467800",
   "metadata": {},
   "outputs": [],
   "source": []
  }
 ],
 "metadata": {
  "kernelspec": {
   "display_name": "Python 3 (ipykernel)",
   "language": "python",
   "name": "python3"
  },
  "language_info": {
   "codemirror_mode": {
    "name": "ipython",
    "version": 3
   },
   "file_extension": ".py",
   "mimetype": "text/x-python",
   "name": "python",
   "nbconvert_exporter": "python",
   "pygments_lexer": "ipython3",
   "version": "3.11.3"
  }
 },
 "nbformat": 4,
 "nbformat_minor": 5
}
